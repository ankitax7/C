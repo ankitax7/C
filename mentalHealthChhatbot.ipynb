{
  "nbformat": 4,
  "nbformat_minor": 0,
  "metadata": {
    "colab": {
      "provenance": [],
      "authorship_tag": "ABX9TyPLnmEkugTQotk5CSP6eGD1",
      "include_colab_link": true
    },
    "kernelspec": {
      "name": "python3",
      "display_name": "Python 3"
    },
    "language_info": {
      "name": "python"
    }
  },
  "cells": [
    {
      "cell_type": "markdown",
      "metadata": {
        "id": "view-in-github",
        "colab_type": "text"
      },
      "source": [
        "<a href=\"https://colab.research.google.com/github/ankitax7/c/blob/main/mentalHealthChhatbot.ipynb\" target=\"_parent\"><img src=\"https://colab.research.google.com/assets/colab-badge.svg\" alt=\"Open In Colab\"/></a>"
      ]
    },
    {
      "cell_type": "code",
      "execution_count": null,
      "metadata": {
        "colab": {
          "base_uri": "https://localhost:8080/"
        },
        "id": "55HbmLYjhWAL",
        "outputId": "e6ab46be-2795-491d-e546-29efdbc38e6e"
      },
      "outputs": [
        {
          "output_type": "stream",
          "name": "stdout",
          "text": [
            "Welcome to the Mental Health Chatbot. How can I help you today?\n"
          ]
        }
      ],
      "source": [
        "import random\n",
        "import re\n",
        "\n",
        "# Define a dictionary of conversation topics and possible responses\n",
        "conversation_topics = {\n",
        "    \"work\": [\"How has work been going for you?\", \"Are you feeling stressed about work?\" ],\n",
        "    \"family\": [\"Tell me about your family. How are they?\", \"Family can be complicated. Do you want to talk about it?\"],\n",
        "    \"hobbies\": [\"What do you like to do for fun?\", \"How do you usually spend your free time?\"],\n",
        "    \"sleep\": [\"Are you getting enough sleep lately?\", \"How have your sleeping patterns been?\"],\n",
        "    \"exercise\": [\"Do you find time to exercise regularly?\", \"Exercise can be a great way to boost your mood. Do you enjoy it?\"],\n",
        "    \"friends\": [\"How are your friends? Have you been keeping in touch?\", \"Friends are important. Do you feel supported by yours?\"],\n",
        "    \"goals\": [\"Do you have any goals you're working towards?\", \"Setting goals can give you a sense of direction. Have you thought about it?\"],\n",
        "    \"selfcare\": [\"What do you do to take care of yourself?\", \"Self-care is important for mental health. Do you have any self-care routines?\"],\n",
        "    \"recommendations\": [\"Would you like some recommendations on how to improve your mood?\", \"I can suggest some activities to help you feel better. Would you like that?\" ],\n",
        "    \"stress\" : [ \"what's making you feeling stressed?\"],\n",
        " \"creativity\": [\"Draw or paint something.\", \"Write in a journal or start a creative writing project.\", \"Listen to or play music.\"],\n",
        " \"social connection\": [\"Call or video chat with a friend.\", \"Join a club or group with similar interests.\", \"Volunteer to help others in your community.\"],\n",
        " \"physical activity\": [\"Go for a walk or run outside.\", \"Try a yoga or pilates session.\", \"Dance to your favorite music.\"],\n",
        "    \"mindfulness\": [\"Practice deep breathing exercises.\", \"Try a guided meditation.\", \"Write down three things you're grateful for.\"],\n",
        "    \"self-care\": [\"Take a relaxing bath.\", \"Treat yourself to your favorite snack or treat.\", \"Watch a movie or read a book that makes you happy.\"],\n",
        "    \"anxious\" : [\"what's making you feeling anxious?\"],\n",
        "    \"exam\" : [\"it's okay to feel anxious during exam. you do your best and the outcome will be satisfying:)\"],\n",
        "    \"peer pressure\" : [\"Remember, your worth isn't determined by others expectations trust yourself and your values when faced with peer pressure\" ],\n",
        "    \"depressed\" : [\"why are you feeling depressed?\"],\n",
        "    \"thank you\" : [\"my pleasure, have an amazing day\"],\n",
        "    \"low\" : [\"It's important to prioritize self-care and set boundaries to manage workloads effectively and maintain balance in your life\"],\n",
        "    \"panic attack\" : [\"Focus on your breathing and remind yourself that this feeling will pass—practice grounding techniques to regain control\"],\n",
        "    \"lonely\" : [\"Loneliness can be difficult to cope with. Have you thought about reaching out to friends or family members for support?\"],\n",
        "    \"anyone close\" : [\"It's common to feel isolated at times, but there are other ways to connect with people. Have you considered joining any clubs or groups with shared interests?\"],\n",
        "    \"music\" : [\"alright, here you go -  https://open.spotify.com/artist/41R7F5cu0ntAZjquFwbrcL?si=TIsY2dgGTgWztoYHfBwEtQ\"],\n",
        "    \"confidence\" : [\"Remember, your worth isn't defined by your confidence level. This may help you - https://open.spotify.com/show/2bDcDeY4CWy0YMLXcffcPN?si=c8f299fc69854497\"],\n",
        "    \"games\" : [\" Here are some fun mind games for you - https://www.mentalup.co/concentration-games\"]\n",
        "}\n",
        "\n",
        "# Define a dictionary of recommendations for improving mood\n",
        "mood_recommendations = {\n",
        "    \"physical activity\": [\"Go for a walk or run outside.\", \"Try a yoga or pilates session.\", \"Dance to your favorite music.\"],\n",
        "    \"mindfulness\": [\"Practice deep breathing exercises.\", \"Try a guided meditation.\", \"Write down three things you're grateful for.\"],\n",
        "    \"self-care\": [\"Take a relaxing bath.\", \"Treat yourself to your favorite snack or treat.\", \"Watch a movie or read a book that makes you happy.\"],\n",
        "}\n",
        "\n",
        "# Define a list of generic responses\n",
        "generic_responses = [\n",
        "     \"I'm sorry to hear that. Can you tell me more?\",\n",
        "    \"That sounds tough. How have you been coping?\",\n",
        "    \"I'm here to listen. What's been on your mind?\",\n",
        "    \"It's okay to feel that way. Would you like to talk about it?\",\n",
        "    \"Remember, you're not alone. I'm here to support you.\"\n",
        "]\n",
        "\n",
        "# Define a function to handle user input and generate a response\n",
        "def chat():\n",
        "    print(\"Welcome to the Mental Health Chatbot. How can I help you today?\")\n",
        "    while True:\n",
        "        user_input = input(\"You: \").lower()\n",
        "        if user_input == \"exit\":\n",
        "            print(\"Thank you for talking with me. Take care!\")\n",
        "            break\n",
        "        else:\n",
        "            bot_response = generate_response(user_input)\n",
        "            print(\"Bot:\", bot_response)\n",
        "\n",
        "# Define a function to generate a response based on user input\n",
        "def generate_response(user_input):\n",
        "    # Check if the user input matches any of the conversation topics\n",
        "    for topic in conversation_topics.keys():\n",
        "        if topic in user_input:\n",
        "            return random.choice(conversation_topics[topic])\n",
        "\n",
        "    # Check if the user is asking for recommendations\n",
        "    if \"recommendations\" in user_input:\n",
        "        return recommend_activity()\n",
        "\n",
        "    # If no specific topic is found, return a generic response\n",
        "    return random.choice(generic_responses)\n",
        "\n",
        "# Define a function to recommend an activity for improving mood\n",
        "def recommend_activity():\n",
        "    # Choose a random mood category\n",
        "    mood_category = random.choice(list(mood_recommendations.keys()))\n",
        "    # Choose a random recommendation from the selected category\n",
        "    recommendation = random.choice(mood_recommendations[mood_category])\n",
        "    return f\"I recommend trying {mood_category}: {recommendation}\"\n",
        "\n",
        "# Function to make URLs clickable\n",
        "def make_urls_clickable(text):\n",
        "    # Regular expression to match URLs\n",
        "    url_regex = r'(https?://\\S+)'\n",
        "    # Replace URLs with clickable HTML links\n",
        "    return re.sub(url_regex, r'<a href=\"\\1\">\\1</a>', text)\n",
        "\n",
        "# Call the chat function to start the conversation\n",
        "chat()"
      ]
    }
  ]
}